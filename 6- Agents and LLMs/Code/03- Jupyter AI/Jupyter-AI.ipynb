{
 "cells": [
  {
   "cell_type": "code",
   "execution_count": 1,
   "id": "5fbaf3b5-9708-4bef-9465-2860553512b3",
   "metadata": {},
   "outputs": [],
   "source": [
    "%reload_ext jupyter_ai_magics"
   ]
  },
  {
   "cell_type": "code",
   "execution_count": 2,
   "id": "e3af784f-362d-4e19-ab3e-ce21b9bb0f0b",
   "metadata": {},
   "outputs": [],
   "source": [
    "import os"
   ]
  },
  {
   "cell_type": "code",
   "execution_count": 5,
   "id": "01aefe98-03c0-4405-a9f4-9a3952d5434a",
   "metadata": {},
   "outputs": [],
   "source": [
    "os.environ[\"OPENAI_API_BASE\"] = \"https://ellm.nrp-nautilus.io/v1\"\n",
    "os.environ[\"OPENAI_API_KEY\"] = \"my-key\""
   ]
  },
  {
   "cell_type": "code",
   "execution_count": 6,
   "id": "671245fb-74c4-474c-bb7f-46d0d8a6a365",
   "metadata": {},
   "outputs": [
    {
     "data": {
      "text/markdown": [
       "Okay, here's a markdown-formatted \"hello\". \n",
       "\n",
       "```markdown\n",
       "# Hello! 👋\n",
       "\n",
       "This is a simple markdown response. \n",
       "\n",
       "I'm ready for your next request. Just let me know what you need!\n",
       "```\n"
      ],
      "text/plain": [
       "<IPython.core.display.Markdown object>"
      ]
     },
     "execution_count": 6,
     "metadata": {
      "text/markdown": {
       "jupyter_ai": {
        "model_id": "gemma3",
        "provider_id": "openai-chat-custom"
       }
      }
     },
     "output_type": "execute_result"
    }
   ],
   "source": [
    "%%ai openai-chat-custom:gemma3\n",
    "hello"
   ]
  },
  {
   "cell_type": "code",
   "execution_count": 13,
   "id": "b245974b-6b17-4425-a14f-f2cc387e597e",
   "metadata": {},
   "outputs": [
    {
     "data": {
      "text/html": [
       "```html\n",
       "<div style=\"background-color:red; width:100px; height:100px; text-align:center; line-height:100px; color:white; font-weight:bold;\">\n",
       "Hello\n",
       "</div>\n",
       "```"
      ],
      "text/plain": [
       "<IPython.core.display.HTML object>"
      ]
     },
     "execution_count": 13,
     "metadata": {
      "text/html": {
       "jupyter_ai": {
        "model_id": "gemma3",
        "provider_id": "openai-chat-custom"
       }
      }
     },
     "output_type": "execute_result"
    }
   ],
   "source": [
    "%%ai openai-chat-custom:gemma3 -f html\n",
    "generate a red square with hello in it"
   ]
  },
  {
   "cell_type": "code",
   "execution_count": 15,
   "id": "67c317c8-03ff-439c-b852-0b0f8ea8c5f4",
   "metadata": {},
   "outputs": [
    {
     "data": {
      "text/latex": [
       "$\\displaystyle ```latex\n",
       "$$x = \\frac{-b \\pm \\sqrt{b^2 - 4ac}}{2a}$$\n",
       "```$"
      ],
      "text/plain": [
       "<IPython.core.display.Math object>"
      ]
     },
     "execution_count": 15,
     "metadata": {
      "text/latex": {
       "jupyter_ai": {
        "model_id": "gemma3",
        "provider_id": "openai-chat-custom"
       }
      }
     },
     "output_type": "execute_result"
    }
   ],
   "source": [
    "%%ai openai-chat-custom:gemma3 -f math\n",
    "quadratic equation"
   ]
  },
  {
   "cell_type": "code",
   "execution_count": 17,
   "id": "828ea2ab-2200-43f7-a15c-31566ce7c9d1",
   "metadata": {},
   "outputs": [
    {
     "data": {
      "text/markdown": [
       "Registered new alias `gemma`"
      ],
      "text/plain": [
       "Registered new alias `gemma`"
      ]
     },
     "execution_count": 17,
     "metadata": {},
     "output_type": "execute_result"
    }
   ],
   "source": [
    "%ai register gemma openai-chat-custom:gemma3"
   ]
  },
  {
   "cell_type": "code",
   "execution_count": 18,
   "id": "148bcf33-2ffc-47c4-90c2-b7ff969c38a8",
   "metadata": {},
   "outputs": [
    {
     "data": {
      "text/markdown": [
       "# Backtracking with Python3: A Tutorial\n",
       "\n",
       "Backtracking is a general algorithmic technique for finding all (or some) solutions to some computational problems, particularly constraint satisfaction problems. It incrementally builds candidates to the solutions, and abandons a candidate (\"backtracks\") as soon as it determines that the candidate cannot possibly lead to a valid solution.\n",
       "\n",
       "## Core Concepts\n",
       "\n",
       "* **Recursive:** Backtracking is inherently recursive.  We explore a solution space by making choices and then recursively calling the function to explore the consequences of those choices.\n",
       "* **Constraints:**  Problems solved with backtracking have constraints that define valid solutions.  These constraints are used to prune the search space and avoid exploring paths that are guaranteed to be invalid.\n",
       "* **State Space:** The set of all possible configurations or choices represents the state space. Backtracking systematically explores this space.\n",
       "* **Choice, Constraint, and Goal:**\n",
       "    * **Choice:**  At each step, you choose an option.\n",
       "    * **Constraint:** You check if the choice is valid given the current state.\n",
       "    * **Goal:**  You check if the choice leads to a solution.\n",
       "\n",
       "## Example: N-Queens Problem\n",
       "\n",
       "The N-Queens problem is a classic example of a problem solved with backtracking. The goal is to place N chess queens on an N×N chessboard such that no two queens attack each other (i.e., no two queens share the same row, column, or diagonal).\n",
       "\n",
       "### Python Implementation\n",
       "\n",
       "```python\n",
       "def solve_nqueens(n):\n",
       "    \"\"\"Solves the N-Queens problem and returns a list of solutions.\"\"\"\n",
       "    solutions = []\n",
       "    board = [0] * n  # Represents column position of queen in each row\n",
       "\n",
       "    def is_safe(row, col):\n",
       "        \"\"\"Checks if placing a queen at (row, col) is safe.\"\"\"\n",
       "        for i in range(row):\n",
       "            # Check same column\n",
       "            if board[i] == col:\n",
       "                return False\n",
       "            # Check diagonals\n",
       "            if abs(board[i] - col) == row - i:\n",
       "                return False\n",
       "        return True\n",
       "\n",
       "    def backtrack(row):\n",
       "        \"\"\"Recursive backtracking function.\"\"\"\n",
       "        if row == n:\n",
       "            # Found a solution\n",
       "            solutions.append(board[:])  # Append a *copy* of the board\n",
       "            return\n",
       "\n",
       "        for col in range(n):\n",
       "            if is_safe(row, col):\n",
       "                board[row] = col\n",
       "                backtrack(row + 1)\n",
       "                # Backtrack: Remove the queen and try the next column\n",
       "                # (implicitly done by continuing the loop)\n",
       "\n",
       "    backtrack(0)\n",
       "    return solutions\n",
       "\n",
       "def print_board(board):\n",
       "    \"\"\"Prints a chessboard representation of a solution.\"\"\"\n",
       "    n = len(board)\n",
       "    for row in range(n):\n",
       "        line = \"\"\n",
       "        for col in range(n):\n",
       "            if board[row] == col:\n",
       "                line += \"Q \"\n",
       "            else:\n",
       "                line += \". \"\n",
       "        print(line)\n",
       "    print(\"-\" * (2 * n))\n",
       "\n",
       "\n",
       "# Example usage:\n",
       "n = 4\n",
       "solutions = solve_nqueens(n)\n",
       "\n",
       "if solutions:\n",
       "    print(f\"Found {len(solutions)} solutions for N={n}:\")\n",
       "    for solution in solutions:\n",
       "        print_board(solution)\n",
       "else:\n",
       "    print(f\"No solutions found for N={n}.\")\n",
       "```\n",
       "\n",
       "### Explanation:\n",
       "\n",
       "1. **`solve_nqueens(n)`:** This function initializes the `solutions` list and the `board` list (representing the board).  It then calls the `backtrack` function to start the search.\n",
       "\n",
       "2. **`is_safe(row, col)`:** This function checks if placing a queen at `(row, col)` is safe, considering queens already placed in previous rows.  It checks for conflicts in the same column and on diagonals.\n",
       "\n",
       "3. **`backtrack(row)`:**  This is the recursive function that implements the backtracking logic:\n",
       "   - **Base Case:**  If `row == n`, it means we've successfully placed queens in all rows, so we found a solution.  We append a copy of the `board` to the `solutions` list.\n",
       "   - **Recursive Step:**  For each column `col` in the current row `row`:\n",
       "     - If `is_safe(row, col)` returns `True`, we place a queen at `(row, col)` by setting `board[row] = col`.\n",
       "     - We recursively call `backtrack(row + 1)` to try placing queens in the next row.\n",
       "     - **Backtracking Step:** If the recursive call doesn't lead to a solution, we implicitly backtrack by continuing the loop and trying the next column.  This effectively removes the queen from the current position and explores other possibilities.\n",
       "\n",
       "4. **`print_board(board)`:**  Helper function to visualize the solutions.\n",
       "\n",
       "### How Backtracking Works in N-Queens\n",
       "\n",
       "The algorithm explores the search space by trying to place queens one row at a time.  If a placement leads to a conflict (i.e., `is_safe` returns `False`), the algorithm *backtracks* by removing the queen and trying a different column.  This continues until a valid solution is found or all possibilities have been exhausted.\n",
       "\n",
       "## General Backtracking Template\n",
       "\n",
       "```python\n",
       "def backtrack(candidate, state, solutions):\n",
       "    \"\"\"\n",
       "    Generic backtracking function.\n",
       "\n",
       "    Args:\n",
       "        candidate:  The current candidate solution being built.\n",
       "        state:  The current state of the problem.\n",
       "        solutions:  A list to store valid solutions.\n",
       "    \"\"\"\n",
       "    if is_solution(candidate, state):\n",
       "        solutions.append(candidate)\n",
       "        return\n",
       "\n",
       "    for choice in get_choices(candidate, state):\n",
       "        if is_valid(candidate, choice, state):\n",
       "            new_candidate = make_choice(candidate, choice)\n",
       "            new_state = update_state(state, choice)\n",
       "            backtrack(new_candidate, new_state, solutions)\n",
       "            # Backtrack:  Undo the choice (optional, depends on the problem)\n",
       "            # new_candidate = remove_choice(new_candidate, choice)\n",
       "            # new_state = revert_state(new_state, choice)\n",
       "```\n",
       "\n",
       "## Tips for Backtracking\n",
       "\n",
       "* **Pruning:** The most important aspect of backtracking is effective pruning.  Identify constraints early and use them to avoid exploring branches of the search space that cannot lead to valid solutions.\n",
       "* **Order of Choices:** The order in which you explore choices can significantly affect performance.  Try to explore promising choices first.\n",
       "* **State Representation:** Choose a state representation that makes it easy to check constraints and update the state.\n",
       "* **Copying State:** Be careful when appending solutions to a list.  You need to append a *copy* of the candidate solution, not the candidate itself, to avoid modifying previously found solutions.\n",
       "\n",
       "\n",
       "\n",
       "Backtracking is a powerful technique for solving a wide range of problems, including puzzles, optimization problems, and constraint satisfaction problems. Understanding the core concepts and applying effective pruning strategies are key to writing efficient backtracking algorithms.\n"
      ],
      "text/plain": [
       "<IPython.core.display.Markdown object>"
      ]
     },
     "execution_count": 18,
     "metadata": {
      "text/markdown": {
       "jupyter_ai": {
        "model_id": "gemma3",
        "provider_id": "openai-chat-custom"
       }
      }
     },
     "output_type": "execute_result"
    }
   ],
   "source": [
    "%%ai gemma -f markdown\n",
    "a tutorial on backtracking with python3"
   ]
  },
  {
   "cell_type": "code",
   "execution_count": null,
   "id": "4429cdc9-8eed-4f3b-a721-0e3d221d3b40",
   "metadata": {},
   "outputs": [],
   "source": []
  }
 ],
 "metadata": {
  "kernelspec": {
   "display_name": "Python 3 (ipykernel)",
   "language": "python",
   "name": "python3"
  },
  "language_info": {
   "codemirror_mode": {
    "name": "ipython",
    "version": 3
   },
   "file_extension": ".py",
   "mimetype": "text/x-python",
   "name": "python",
   "nbconvert_exporter": "python",
   "pygments_lexer": "ipython3",
   "version": "3.12.8"
  }
 },
 "nbformat": 4,
 "nbformat_minor": 5
}
